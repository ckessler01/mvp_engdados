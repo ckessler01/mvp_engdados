{
 "cells": [
  {
   "cell_type": "code",
   "execution_count": 0,
   "metadata": {
    "application/vnd.databricks.v1+cell": {
     "cellMetadata": {
      "byteLimit": 2048000,
      "rowLimit": 10000
     },
     "inputWidgets": {},
     "nuid": "29337102-273c-45d7-a639-9a23d5ffea40",
     "showTitle": false,
     "title": ""
    }
   },
   "outputs": [],
   "source": [
    "# importa as bibliotecas necessárias\n",
    "from pyspark.sql.functions import col, to_date\n",
    "from pyspark.sql import SparkSession\n",
    "from pyspark.sql.types import StructType, StructField, IntegerType, StringType, DateType, FloatType\n"
   ]
  },
  {
   "cell_type": "code",
   "execution_count": 0,
   "metadata": {
    "application/vnd.databricks.v1+cell": {
     "cellMetadata": {
      "byteLimit": 2048000,
      "rowLimit": 10000
     },
     "inputWidgets": {},
     "nuid": "f6f72bab-8e5c-4114-b7cb-2e54cef42ae9",
     "showTitle": false,
     "title": ""
    }
   },
   "outputs": [],
   "source": [
    "# Cria um DataFrame com o conteúdo do arquivo csv (bronze)\n",
    "df_bronze = spark.read.format(\"csv\").option(\"header\", \"true\").load(\"dbfs:/FileStore/Capacidade_Geracao.csv\")"
   ]
  },
  {
   "cell_type": "code",
   "execution_count": 0,
   "metadata": {
    "application/vnd.databricks.v1+cell": {
     "cellMetadata": {
      "byteLimit": 2048000,
      "rowLimit": 10000
     },
     "inputWidgets": {},
     "nuid": "b7049464-ac2a-4269-92f3-b105d4a3a4bc",
     "showTitle": false,
     "title": ""
    }
   },
   "outputs": [
    {
     "output_type": "stream",
     "name": "stdout",
     "output_type": "stream",
     "text": [
      "root\n |-- _id: integer (nullable = false)\n |-- id_estado: string (nullable = false)\n |-- nom_tipousina: string (nullable = false)\n |-- nom_usina: string (nullable = false)\n |-- ceg: string (nullable = false)\n |-- cod_equipamento: string (nullable = false)\n |-- nom_combustivel: string (nullable = false)\n |-- dat_entradaoperacao: date (nullable = false)\n |-- dat_desativacao: date (nullable = true)\n |-- val_potenciaefetiva: float (nullable = false)\n\n"
     ]
    }
   ],
   "source": [
    "#Tratamento dos dados (camada silver)\n",
    "spark = SparkSession.builder.appName(\"ManipularDataFrame\").getOrCreate()\n",
    "selected_columns = [\"_id\", \"id_estado\", \"nom_tipousina\", \"nom_usina\", \"ceg\", \"cod_equipamento\", \"nom_combustivel\", \"dat_entradaoperacao\", \"dat_desativacao\", \"val_potenciaefetiva\"]\n",
    "df_silver = df_bronze.select(selected_columns)\n",
    "\n",
    "# Converter as colunas \"dat_entradaoperacao\" e \"dat_desativacao\" para o formato data\n",
    "df_silver = df_silver.withColumn(\"dat_entradaoperacao\", to_date(col(\"dat_entradaoperacao\"), \"yyyy-MM-dd'T'HH:mm:ss\")) \\\n",
    "                          .withColumn(\"dat_desativacao\", to_date(col(\"dat_desativacao\"), \"yyyy-MM-dd'T'HH:mm:ss\"))\n",
    "\n",
    "# Converter a coluna \"val_potenciaefetiva\" para float e a coluna \"_id\" para integer\n",
    "df_silver = df_silver.withColumn(\"val_potenciaefetiva\", col(\"val_potenciaefetiva\").cast(\"float\")) \\\n",
    "                        .withColumn(\"_id\",col(\"_id\").cast(\"integer\"))\n",
    "\n",
    "# Definir o novo esquema com nullable = false as colunas que devem ter essa característica\n",
    "new_schema = StructType([\n",
    "    StructField(\"_id\", IntegerType(), nullable=False),\n",
    "    StructField(\"id_estado\", StringType(), nullable=False),\n",
    "    StructField(\"nom_tipousina\", StringType(), nullable=False),\n",
    "    StructField(\"nom_usina\", StringType(), nullable=False),\n",
    "    StructField(\"ceg\", StringType(), nullable=False),\n",
    "    StructField(\"cod_equipamento\", StringType(), nullable=False),\n",
    "    StructField(\"nom_combustivel\", StringType(), nullable=False),\n",
    "    StructField(\"dat_entradaoperacao\", DateType(), nullable=False),\n",
    "    StructField(\"dat_desativacao\", DateType(), nullable=True),\n",
    "    StructField(\"val_potenciaefetiva\", FloatType(), nullable=False)\n",
    "])\n",
    "\n",
    "# Aplicar o novo esquema ao DataFrame\n",
    "df_silver = spark.createDataFrame(df_silver.rdd, schema=new_schema)\n",
    "\n",
    "# Exibir o esquema do novo DataFrame para verificar as alterações\n",
    "df_silver.printSchema()\n",
    "\n"
   ]
  },
  {
   "cell_type": "code",
   "execution_count": 0,
   "metadata": {
    "application/vnd.databricks.v1+cell": {
     "cellMetadata": {
      "byteLimit": 2048000,
      "rowLimit": 10000
     },
     "inputWidgets": {},
     "nuid": "71a3bb10-1bce-4b79-8679-1650a11224fd",
     "showTitle": false,
     "title": ""
    }
   },
   "outputs": [
    {
     "output_type": "stream",
     "name": "stdout",
     "output_type": "stream",
     "text": [
      "Número de valores inválidos na coluna 'id_estado': 0\n"
     ]
    }
   ],
   "source": [
    "# Verifica se a coluna \"id_estado\" possui algum valor inválido. Os valores válidos são as siglas dos 27 estados da federação, além de \"I\" que representa o Paraguai em sua parcela de Itaipu\n",
    "\n",
    "siglas_estados = [\"AC\", \"AL\", \"AP\", \"AM\", \"BA\", \"CE\", \"DF\", \"ES\", \"GO\", \"MA\", \"MT\", \"MS\", \"MG\", \"PA\", \"PB\", \"PR\", \"PE\", \"PI\", \"RJ\", \"RN\", \"RS\", \"RO\", \"RR\", \"SC\", \"SP\", \"SE\", \"TO\", \"I\"]\n",
    "\n",
    "valores_invalidos = df_silver.filter(~df_silver[\"id_estado\"].isin(siglas_estados))\n",
    "contagem_invalidos = valores_invalidos.count()\n",
    "print(f\"Número de valores inválidos na coluna 'id_estado': {contagem_invalidos}\")\n",
    "if contagem_invalidos >0:\n",
    "    valores_invalidos.show()\n",
    "\n"
   ]
  },
  {
   "cell_type": "code",
   "execution_count": 0,
   "metadata": {
    "application/vnd.databricks.v1+cell": {
     "cellMetadata": {
      "byteLimit": 2048000,
      "rowLimit": 10000
     },
     "inputWidgets": {},
     "nuid": "9a61d64f-7e86-4da9-8859-56c28b1a4c79",
     "showTitle": false,
     "title": ""
    }
   },
   "outputs": [
    {
     "output_type": "stream",
     "name": "stdout",
     "output_type": "stream",
     "text": [
      "Número de valores inválidos na coluna 'val_potenciaefetiva': 0\n"
     ]
    }
   ],
   "source": [
    "# Verifica se há valores inválidos na coluna \"val_potenciaefetiva\". Os valores devem ser numéricos e positivos\n",
    "valores_invalidos_potencia = df_silver.filter((col(\"val_potenciaefetiva\") <= 0) | (col(\"val_potenciaefetiva\").isNull()))\n",
    "\n",
    "contagem_invalidos_potencia = valores_invalidos_potencia.count()\n",
    "print(f\"Número de valores inválidos na coluna 'val_potenciaefetiva': {contagem_invalidos_potencia}\")\n",
    "if contagem_invalidos_potencia >0:\n",
    "    valores_invalidos_potencia.show()\n",
    "\n"
   ]
  },
  {
   "cell_type": "code",
   "execution_count": 0,
   "metadata": {
    "application/vnd.databricks.v1+cell": {
     "cellMetadata": {
      "byteLimit": 2048000,
      "rowLimit": 10000
     },
     "inputWidgets": {},
     "nuid": "6d451f2b-0365-4ea5-8b7f-c0edab2f099f",
     "showTitle": false,
     "title": ""
    }
   },
   "outputs": [
    {
     "output_type": "stream",
     "name": "stdout",
     "output_type": "stream",
     "text": [
      "Número de valores nulos nas colunas não nulas: 0\n"
     ]
    }
   ],
   "source": [
    "# Verifica se há algum valor nula nas colunas que não dever ter valores nulos\n",
    "colunas_nao_nulas = [\"_id\", \"id_estado\", \"nom_tipousina\", \"nom_usina\", \"ceg\", \"cod_equipamento\", \"nom_combustivel\", \"dat_entradaoperacao\", \"val_potenciaefetiva\"]\n",
    "\n",
    "# Filtra as linhas que possuem valores nulos em alguma das colunas não nulas\n",
    "valores_nulos = df_silver.filter(\n",
    "    sum(col(coluna).isNull().cast(\"int\") for coluna in colunas_nao_nulas) > 0\n",
    ")\n",
    "\n",
    "# Contagem dos valores nulos\n",
    "contagem_nulos = valores_nulos.count()\n",
    "print(f\"Número de valores nulos nas colunas não nulas: {contagem_nulos}\")\n",
    "\n",
    "# Exibindo os valores nulos apenas se a contagem for maior que zero\n",
    "if contagem_nulos > 0:\n",
    "    valores_nulos.show()\n"
   ]
  },
  {
   "cell_type": "code",
   "execution_count": 0,
   "metadata": {
    "application/vnd.databricks.v1+cell": {
     "cellMetadata": {
      "byteLimit": 2048000,
      "rowLimit": 10000
     },
     "inputWidgets": {},
     "nuid": "35d453f9-b0bf-4459-a2e8-0e1c1012f447",
     "showTitle": false,
     "title": ""
    }
   },
   "outputs": [],
   "source": [
    "# Criar tabela silver\n",
    "df_silver.write.format(\"delta\").mode(\"overwrite\").saveAsTable(\"tabela_silver\")\n"
   ]
  },
  {
   "cell_type": "code",
   "execution_count": 0,
   "metadata": {
    "application/vnd.databricks.v1+cell": {
     "cellMetadata": {
      "byteLimit": 2048000,
      "rowLimit": 10000
     },
     "inputWidgets": {},
     "nuid": "30e340c8-68b5-478f-84e4-08511429cf8b",
     "showTitle": false,
     "title": ""
    }
   },
   "outputs": [],
   "source": [
    "# Criar a camada gold\n",
    "df_gold = df_silver.filter(df_silver[\"dat_desativacao\"].isNull())\n",
    "df_gold.write.format(\"delta\").mode(\"overwrite\").saveAsTable(\"tabela_gold\")\n"
   ]
  },
  {
   "cell_type": "code",
   "execution_count": 0,
   "metadata": {
    "application/vnd.databricks.v1+cell": {
     "cellMetadata": {
      "byteLimit": 2048000,
      "rowLimit": 10000
     },
     "inputWidgets": {},
     "nuid": "b14bc87e-7030-40cb-bf71-67b2f49e9048",
     "showTitle": false,
     "title": ""
    }
   },
   "outputs": [],
   "source": []
  },
  {
   "cell_type": "code",
   "execution_count": 0,
   "metadata": {
    "application/vnd.databricks.v1+cell": {
     "cellMetadata": {
      "byteLimit": 2048000,
      "rowLimit": 10000
     },
     "inputWidgets": {},
     "nuid": "5ebdb4f0-446a-426e-8e63-add242506132",
     "showTitle": false,
     "title": ""
    }
   },
   "outputs": [
    {
     "output_type": "stream",
     "name": "stdout",
     "output_type": "stream",
     "text": [
      "O DataFrame silver contém 4987 linhas.\nO DataFrame gold contém 4020 linhas.\n"
     ]
    }
   ],
   "source": [
    "# Verificar número de linhas dos Dataframes\n",
    "num_linhas_silver = df_silver.count()\n",
    "num_linhas_gold = df_gold.count()\n",
    "\n",
    "print(f\"O DataFrame silver contém {num_linhas_silver} linhas.\")\n",
    "print(f\"O DataFrame gold contém {num_linhas_gold} linhas.\")"
   ]
  },
  {
   "cell_type": "code",
   "execution_count": 0,
   "metadata": {
    "application/vnd.databricks.v1+cell": {
     "cellMetadata": {
      "byteLimit": 2048000,
      "implicitDf": true,
      "rowLimit": 10000
     },
     "inputWidgets": {},
     "nuid": "e794c812-1898-42ce-8227-93678dfc6d64",
     "showTitle": false,
     "title": ""
    }
   },
   "outputs": [
    {
     "output_type": "display_data",
     "data": {
      "text/html": [
       "<style scoped>\n",
       "  .table-result-container {\n",
       "    max-height: 300px;\n",
       "    overflow: auto;\n",
       "  }\n",
       "  table, th, td {\n",
       "    border: 1px solid black;\n",
       "    border-collapse: collapse;\n",
       "  }\n",
       "  th, td {\n",
       "    padding: 5px;\n",
       "  }\n",
       "  th {\n",
       "    text-align: left;\n",
       "  }\n",
       "</style><div class='table-result-container'><table class='table-result'><thead style='background-color: white'><tr><th>num_affected_rows</th></tr></thead><tbody><tr><td>1952</td></tr></tbody></table></div>"
      ]
     },
     "metadata": {
      "application/vnd.databricks.v1+output": {
       "addedWidgets": {},
       "aggData": [],
       "aggError": "",
       "aggOverflow": false,
       "aggSchema": [],
       "aggSeriesLimitReached": false,
       "aggType": "",
       "arguments": {},
       "columnCustomDisplayInfos": {},
       "data": [
        [
         1952
        ]
       ],
       "datasetInfos": [],
       "dbfsResultPath": null,
       "isJsonSchema": true,
       "metadata": {
        "dataframeName": "_sqldf",
        "executionCount": 10
       },
       "overflow": false,
       "plotOptions": {
        "customPlotOptions": {},
        "displayType": "table",
        "pivotAggregation": null,
        "pivotColumns": null,
        "xColumns": null,
        "yColumns": null
       },
       "removedWidgets": [],
       "schema": [
        {
         "metadata": "{}",
         "name": "num_affected_rows",
         "type": "\"long\""
        }
       ],
       "type": "table"
      }
     },
     "output_type": "display_data"
    }
   ],
   "source": [
    "%sql\n",
    "UPDATE tabela_gold\n",
    "SET nom_tipousina = 'EÓLICA'\n",
    "WHERE nom_tipousina = 'EOLIELÉTRICA';"
   ]
  },
  {
   "cell_type": "markdown",
   "metadata": {
    "application/vnd.databricks.v1+cell": {
     "cellMetadata": {
      "byteLimit": 2048000,
      "rowLimit": 10000
     },
     "inputWidgets": {},
     "nuid": "90402171-3c3b-4502-a57a-cb68bcae798a",
     "showTitle": false,
     "title": ""
    }
   },
   "source": [
    "Solução dos problemas"
   ]
  },
  {
   "cell_type": "markdown",
   "metadata": {
    "application/vnd.databricks.v1+cell": {
     "cellMetadata": {
      "byteLimit": 2048000,
      "rowLimit": 10000
     },
     "inputWidgets": {},
     "nuid": "4a92b9cd-b26f-47dd-8cfa-1d8945e99708",
     "showTitle": false,
     "title": ""
    }
   },
   "source": [
    "1.\tQual o percentual de participação de cada fonte de geração na matriz elétrica brasileira atualmente?"
   ]
  },
  {
   "cell_type": "code",
   "execution_count": 0,
   "metadata": {
    "application/vnd.databricks.v1+cell": {
     "cellMetadata": {
      "byteLimit": 2048000,
      "implicitDf": true,
      "rowLimit": 10000
     },
     "inputWidgets": {},
     "nuid": "e73c460b-b45d-45ab-894a-1c13e3b26165",
     "showTitle": false,
     "title": ""
    }
   },
   "outputs": [
    {
     "output_type": "display_data",
     "data": {
      "text/html": [
       "<style scoped>\n",
       "  .table-result-container {\n",
       "    max-height: 300px;\n",
       "    overflow: auto;\n",
       "  }\n",
       "  table, th, td {\n",
       "    border: 1px solid black;\n",
       "    border-collapse: collapse;\n",
       "  }\n",
       "  th, td {\n",
       "    padding: 5px;\n",
       "  }\n",
       "  th {\n",
       "    text-align: left;\n",
       "  }\n",
       "</style><div class='table-result-container'><table class='table-result'><thead style='background-color: white'><tr><th>nom_tipousina</th><th>soma_potencia</th><th>percentual_participacao</th></tr></thead><tbody><tr><td>HIDROELÉTRICA</td><td>109603.1</td><td>59.4</td></tr><tr><td>TÉRMICA</td><td>30170.4</td><td>16.3</td></tr><tr><td>EÓLICA</td><td>29704.0</td><td>16.1</td></tr><tr><td>FOTOVOLTAICA</td><td>13179.0</td><td>7.1</td></tr><tr><td>NUCLEAR</td><td>1990.0</td><td>1.1</td></tr></tbody></table></div>"
      ]
     },
     "metadata": {
      "application/vnd.databricks.v1+output": {
       "addedWidgets": {},
       "aggData": [],
       "aggError": "",
       "aggOverflow": false,
       "aggSchema": [],
       "aggSeriesLimitReached": false,
       "aggType": "",
       "arguments": {},
       "columnCustomDisplayInfos": {},
       "data": [
        [
         "HIDROELÉTRICA",
         109603.1,
         59.4
        ],
        [
         "TÉRMICA",
         30170.4,
         16.3
        ],
        [
         "EÓLICA",
         29704.0,
         16.1
        ],
        [
         "FOTOVOLTAICA",
         13179.0,
         7.1
        ],
        [
         "NUCLEAR",
         1990.0,
         1.1
        ]
       ],
       "datasetInfos": [],
       "dbfsResultPath": null,
       "isJsonSchema": true,
       "metadata": {
        "dataframeName": "_sqldf",
        "executionCount": 11
       },
       "overflow": false,
       "plotOptions": {
        "customPlotOptions": {},
        "displayType": "table",
        "pivotAggregation": null,
        "pivotColumns": null,
        "xColumns": null,
        "yColumns": null
       },
       "removedWidgets": [],
       "schema": [
        {
         "metadata": "{}",
         "name": "nom_tipousina",
         "type": "\"string\""
        },
        {
         "metadata": "{}",
         "name": "soma_potencia",
         "type": "\"double\""
        },
        {
         "metadata": "{}",
         "name": "percentual_participacao",
         "type": "\"double\""
        }
       ],
       "type": "table"
      }
     },
     "output_type": "display_data"
    }
   ],
   "source": [
    "%sql\n",
    "SELECT nom_tipousina,\n",
    "ROUND(SUM(val_potenciaefetiva),1) AS soma_potencia,\n",
    "ROUND((SUM(val_potenciaefetiva) / (SELECT SUM(val_potenciaefetiva) FROM tabela_gold) * 100),1) AS percentual_participacao\n",
    "FROM tabela_gold\n",
    "GROUP BY nom_tipousina\n",
    "ORDER BY percentual_participacao DESC;"
   ]
  },
  {
   "cell_type": "markdown",
   "metadata": {
    "application/vnd.databricks.v1+cell": {
     "cellMetadata": {
      "byteLimit": 2048000,
      "rowLimit": 10000
     },
     "inputWidgets": {},
     "nuid": "65e676cb-2b53-46a4-a7ba-2d3c8c5b3756",
     "showTitle": false,
     "title": ""
    }
   },
   "source": [
    "2.\tQual o montante de capacidade adicionada no ano de 2023, segregado por fonte?"
   ]
  },
  {
   "cell_type": "code",
   "execution_count": 0,
   "metadata": {
    "application/vnd.databricks.v1+cell": {
     "cellMetadata": {
      "byteLimit": 2048000,
      "implicitDf": true,
      "rowLimit": 10000
     },
     "inputWidgets": {},
     "nuid": "561a09e7-f73e-4494-9cb8-ac4ffc4d2dce",
     "showTitle": false,
     "title": ""
    }
   },
   "outputs": [
    {
     "output_type": "display_data",
     "data": {
      "text/html": [
       "<style scoped>\n",
       "  .table-result-container {\n",
       "    max-height: 300px;\n",
       "    overflow: auto;\n",
       "  }\n",
       "  table, th, td {\n",
       "    border: 1px solid black;\n",
       "    border-collapse: collapse;\n",
       "  }\n",
       "  th, td {\n",
       "    padding: 5px;\n",
       "  }\n",
       "  th {\n",
       "    text-align: left;\n",
       "  }\n",
       "</style><div class='table-result-container'><table class='table-result'><thead style='background-color: white'><tr><th>nom_tipousina</th><th>capacidade_adicionada_2023</th></tr></thead><tbody><tr><td>EÓLICA</td><td>4848.2</td></tr><tr><td>FOTOVOLTAICA</td><td>4045.8</td></tr><tr><td>TÉRMICA</td><td>834.1</td></tr><tr><td>HIDROELÉTRICA</td><td>22.3</td></tr></tbody></table></div>"
      ]
     },
     "metadata": {
      "application/vnd.databricks.v1+output": {
       "addedWidgets": {},
       "aggData": [],
       "aggError": "",
       "aggOverflow": false,
       "aggSchema": [],
       "aggSeriesLimitReached": false,
       "aggType": "",
       "arguments": {},
       "columnCustomDisplayInfos": {},
       "data": [
        [
         "EÓLICA",
         4848.2
        ],
        [
         "FOTOVOLTAICA",
         4045.8
        ],
        [
         "TÉRMICA",
         834.1
        ],
        [
         "HIDROELÉTRICA",
         22.3
        ]
       ],
       "datasetInfos": [],
       "dbfsResultPath": null,
       "isJsonSchema": true,
       "metadata": {
        "dataframeName": "_sqldf",
        "executionCount": 12
       },
       "overflow": false,
       "plotOptions": {
        "customPlotOptions": {},
        "displayType": "table",
        "pivotAggregation": null,
        "pivotColumns": null,
        "xColumns": null,
        "yColumns": null
       },
       "removedWidgets": [],
       "schema": [
        {
         "metadata": "{}",
         "name": "nom_tipousina",
         "type": "\"string\""
        },
        {
         "metadata": "{}",
         "name": "capacidade_adicionada_2023",
         "type": "\"double\""
        }
       ],
       "type": "table"
      }
     },
     "output_type": "display_data"
    }
   ],
   "source": [
    "%sql\n",
    "SELECT nom_tipousina,\n",
    "ROUND(SUM(val_potenciaefetiva),1) AS capacidade_adicionada_2023\n",
    "FROM tabela_gold\n",
    "WHERE YEAR (dat_entradaoperacao) = 2023\n",
    "GROUP BY nom_tipousina\n",
    "ORDER BY capacidade_adicionada_2023 DESC"
   ]
  },
  {
   "cell_type": "markdown",
   "metadata": {
    "application/vnd.databricks.v1+cell": {
     "cellMetadata": {
      "byteLimit": 2048000,
      "rowLimit": 10000
     },
     "inputWidgets": {},
     "nuid": "e0c893d8-26b3-4739-b304-577cffe0718c",
     "showTitle": false,
     "title": ""
    }
   },
   "source": [
    "3.\tListar as usinas desativadas no ano de 2023."
   ]
  },
  {
   "cell_type": "code",
   "execution_count": 0,
   "metadata": {
    "application/vnd.databricks.v1+cell": {
     "cellMetadata": {
      "byteLimit": 2048000,
      "implicitDf": true,
      "rowLimit": 10000
     },
     "inputWidgets": {},
     "nuid": "4441f5ea-5161-46bd-99f5-78fb37ad1708",
     "showTitle": false,
     "title": ""
    }
   },
   "outputs": [
    {
     "output_type": "display_data",
     "data": {
      "text/html": [
       "<style scoped>\n",
       "  .table-result-container {\n",
       "    max-height: 300px;\n",
       "    overflow: auto;\n",
       "  }\n",
       "  table, th, td {\n",
       "    border: 1px solid black;\n",
       "    border-collapse: collapse;\n",
       "  }\n",
       "  th, td {\n",
       "    padding: 5px;\n",
       "  }\n",
       "  th {\n",
       "    text-align: left;\n",
       "  }\n",
       "</style><div class='table-result-container'><table class='table-result'><thead style='background-color: white'><tr><th>ceg</th><th>nom_usina</th><th>nom_tipousina</th><th>potencia</th></tr></thead><tbody><tr><td>UTE.GN.CE.028357-6.01</td><td>FORTALEZA</td><td>TÉRMICA</td><td>326.6</td></tr><tr><td>UTE.FL.SP.035103-2.01</td><td>PREDILECTA</td><td>TÉRMICA</td><td>5.0</td></tr><tr><td>UFV.RS.PE.040725-9.01</td><td>BELMONTE 1-1</td><td>FOTOVOLTAICA</td><td>50.0</td></tr></tbody></table></div>"
      ]
     },
     "metadata": {
      "application/vnd.databricks.v1+output": {
       "addedWidgets": {},
       "aggData": [],
       "aggError": "",
       "aggOverflow": false,
       "aggSchema": [],
       "aggSeriesLimitReached": false,
       "aggType": "",
       "arguments": {},
       "columnCustomDisplayInfos": {},
       "data": [
        [
         "UTE.GN.CE.028357-6.01",
         "FORTALEZA",
         "TÉRMICA",
         326.6
        ],
        [
         "UTE.FL.SP.035103-2.01",
         "PREDILECTA",
         "TÉRMICA",
         5.0
        ],
        [
         "UFV.RS.PE.040725-9.01",
         "BELMONTE 1-1",
         "FOTOVOLTAICA",
         50.0
        ]
       ],
       "datasetInfos": [],
       "dbfsResultPath": null,
       "isJsonSchema": true,
       "metadata": {
        "dataframeName": "_sqldf",
        "executionCount": 13
       },
       "overflow": false,
       "plotOptions": {
        "customPlotOptions": {},
        "displayType": "table",
        "pivotAggregation": null,
        "pivotColumns": null,
        "xColumns": null,
        "yColumns": null
       },
       "removedWidgets": [],
       "schema": [
        {
         "metadata": "{}",
         "name": "ceg",
         "type": "\"string\""
        },
        {
         "metadata": "{}",
         "name": "nom_usina",
         "type": "\"string\""
        },
        {
         "metadata": "{}",
         "name": "nom_tipousina",
         "type": "\"string\""
        },
        {
         "metadata": "{}",
         "name": "potencia",
         "type": "\"double\""
        }
       ],
       "type": "table"
      }
     },
     "output_type": "display_data"
    }
   ],
   "source": [
    "%sql\n",
    "SELECT \n",
    "    ceg, \n",
    "    nom_usina, \n",
    "    nom_tipousina, \n",
    "    ROUND(SUM(val_potenciaefetiva), 1) AS potencia\n",
    "FROM \n",
    "    tabela_silver\n",
    "WHERE \n",
    "    YEAR(dat_desativacao) = 2023\n",
    "GROUP BY \n",
    "    ceg,\n",
    "    nom_usina,\n",
    "    nom_tipousina,\n",
    "    dat_desativacao\n",
    "ORDER BY \n",
    "    dat_desativacao DESC\n"
   ]
  },
  {
   "cell_type": "markdown",
   "metadata": {
    "application/vnd.databricks.v1+cell": {
     "cellMetadata": {
      "byteLimit": 2048000,
      "rowLimit": 10000
     },
     "inputWidgets": {},
     "nuid": "271cdf3c-5682-42ec-907c-cfc7b8e2b793",
     "showTitle": false,
     "title": ""
    }
   },
   "source": [
    "4.\tQuais os 3 estados da federação com a maior capacidade de geração instalada da fonte solar? "
   ]
  },
  {
   "cell_type": "code",
   "execution_count": 0,
   "metadata": {
    "application/vnd.databricks.v1+cell": {
     "cellMetadata": {
      "byteLimit": 2048000,
      "implicitDf": true,
      "rowLimit": 10000
     },
     "inputWidgets": {},
     "nuid": "110f2d8d-8d1d-48a5-b147-18d42083139d",
     "showTitle": false,
     "title": ""
    }
   },
   "outputs": [
    {
     "output_type": "display_data",
     "data": {
      "text/html": [
       "<style scoped>\n",
       "  .table-result-container {\n",
       "    max-height: 300px;\n",
       "    overflow: auto;\n",
       "  }\n",
       "  table, th, td {\n",
       "    border: 1px solid black;\n",
       "    border-collapse: collapse;\n",
       "  }\n",
       "  th, td {\n",
       "    padding: 5px;\n",
       "  }\n",
       "  th {\n",
       "    text-align: left;\n",
       "  }\n",
       "</style><div class='table-result-container'><table class='table-result'><thead style='background-color: white'><tr><th>UF</th><th>potencia</th></tr></thead><tbody><tr><td>MG</td><td>4419.4</td></tr><tr><td>PI</td><td>2031.4</td></tr><tr><td>BA</td><td>1969.0</td></tr></tbody></table></div>"
      ]
     },
     "metadata": {
      "application/vnd.databricks.v1+output": {
       "addedWidgets": {},
       "aggData": [],
       "aggError": "",
       "aggOverflow": false,
       "aggSchema": [],
       "aggSeriesLimitReached": false,
       "aggType": "",
       "arguments": {},
       "columnCustomDisplayInfos": {},
       "data": [
        [
         "MG",
         4419.4
        ],
        [
         "PI",
         2031.4
        ],
        [
         "BA",
         1969.0
        ]
       ],
       "datasetInfos": [],
       "dbfsResultPath": null,
       "isJsonSchema": true,
       "metadata": {
        "dataframeName": "_sqldf",
        "executionCount": 14
       },
       "overflow": false,
       "plotOptions": {
        "customPlotOptions": {},
        "displayType": "table",
        "pivotAggregation": null,
        "pivotColumns": null,
        "xColumns": null,
        "yColumns": null
       },
       "removedWidgets": [],
       "schema": [
        {
         "metadata": "{}",
         "name": "UF",
         "type": "\"string\""
        },
        {
         "metadata": "{}",
         "name": "potencia",
         "type": "\"double\""
        }
       ],
       "type": "table"
      }
     },
     "output_type": "display_data"
    }
   ],
   "source": [
    "%sql\n",
    "SELECT id_estado AS UF,\n",
    "ROUND(SUM(val_potenciaefetiva),1) AS potencia\n",
    "FROM tabela_gold\n",
    "WHERE nom_tipousina = \"FOTOVOLTAICA\"\n",
    "GROUP BY UF\n",
    "ORDER BY potencia DESC\n",
    "LIMIT 3"
   ]
  },
  {
   "cell_type": "markdown",
   "metadata": {
    "application/vnd.databricks.v1+cell": {
     "cellMetadata": {
      "byteLimit": 2048000,
      "rowLimit": 10000
     },
     "inputWidgets": {},
     "nuid": "1b901bda-e166-4c77-ba1a-92d86eb96a43",
     "showTitle": false,
     "title": ""
    }
   },
   "source": [
    "5.\tQuais os 3 estados da federação com a maior capacidade de geração instalada da fonte eólica?"
   ]
  },
  {
   "cell_type": "code",
   "execution_count": 0,
   "metadata": {
    "application/vnd.databricks.v1+cell": {
     "cellMetadata": {
      "byteLimit": 2048000,
      "implicitDf": true,
      "rowLimit": 10000
     },
     "inputWidgets": {},
     "nuid": "cd721ef7-5516-49e2-bd74-e99ef5cd9867",
     "showTitle": false,
     "title": ""
    }
   },
   "outputs": [
    {
     "output_type": "display_data",
     "data": {
      "text/html": [
       "<style scoped>\n",
       "  .table-result-container {\n",
       "    max-height: 300px;\n",
       "    overflow: auto;\n",
       "  }\n",
       "  table, th, td {\n",
       "    border: 1px solid black;\n",
       "    border-collapse: collapse;\n",
       "  }\n",
       "  th, td {\n",
       "    padding: 5px;\n",
       "  }\n",
       "  th {\n",
       "    text-align: left;\n",
       "  }\n",
       "</style><div class='table-result-container'><table class='table-result'><thead style='background-color: white'><tr><th>UF</th><th>potencia</th></tr></thead><tbody><tr><td>RN</td><td>9744.4</td></tr><tr><td>BA</td><td>9472.0</td></tr><tr><td>PI</td><td>3921.8</td></tr></tbody></table></div>"
      ]
     },
     "metadata": {
      "application/vnd.databricks.v1+output": {
       "addedWidgets": {},
       "aggData": [],
       "aggError": "",
       "aggOverflow": false,
       "aggSchema": [],
       "aggSeriesLimitReached": false,
       "aggType": "",
       "arguments": {},
       "columnCustomDisplayInfos": {},
       "data": [
        [
         "RN",
         9744.4
        ],
        [
         "BA",
         9472.0
        ],
        [
         "PI",
         3921.8
        ]
       ],
       "datasetInfos": [],
       "dbfsResultPath": null,
       "isJsonSchema": true,
       "metadata": {
        "dataframeName": "_sqldf",
        "executionCount": 15
       },
       "overflow": false,
       "plotOptions": {
        "customPlotOptions": {},
        "displayType": "table",
        "pivotAggregation": null,
        "pivotColumns": null,
        "xColumns": null,
        "yColumns": null
       },
       "removedWidgets": [],
       "schema": [
        {
         "metadata": "{}",
         "name": "UF",
         "type": "\"string\""
        },
        {
         "metadata": "{}",
         "name": "potencia",
         "type": "\"double\""
        }
       ],
       "type": "table"
      }
     },
     "output_type": "display_data"
    }
   ],
   "source": [
    "%sql\n",
    "SELECT id_estado AS UF,\n",
    "ROUND(SUM(val_potenciaefetiva),1) AS potencia\n",
    "FROM tabela_gold\n",
    "WHERE nom_tipousina = \"EÓLICA\"\n",
    "GROUP BY UF\n",
    "ORDER BY potencia DESC\n",
    "LIMIT 3"
   ]
  },
  {
   "cell_type": "markdown",
   "metadata": {
    "application/vnd.databricks.v1+cell": {
     "cellMetadata": {
      "byteLimit": 2048000,
      "rowLimit": 10000
     },
     "inputWidgets": {},
     "nuid": "e0e4b8c7-5dad-42aa-99c7-f5b5cfad6eb0",
     "showTitle": false,
     "title": ""
    }
   },
   "source": [
    "6. Comparar a matriz elétrica atual com os anos de 2000, 2010 e 2020."
   ]
  },
  {
   "cell_type": "code",
   "execution_count": 0,
   "metadata": {
    "application/vnd.databricks.v1+cell": {
     "cellMetadata": {
      "byteLimit": 2048000,
      "implicitDf": true,
      "rowLimit": 10000
     },
     "inputWidgets": {},
     "nuid": "1b2bed9d-4dba-46f0-8193-eedd246ba55f",
     "showTitle": false,
     "title": ""
    }
   },
   "outputs": [
    {
     "output_type": "display_data",
     "data": {
      "text/html": [
       "<style scoped>\n",
       "  .table-result-container {\n",
       "    max-height: 300px;\n",
       "    overflow: auto;\n",
       "  }\n",
       "  table, th, td {\n",
       "    border: 1px solid black;\n",
       "    border-collapse: collapse;\n",
       "  }\n",
       "  th, td {\n",
       "    padding: 5px;\n",
       "  }\n",
       "  th {\n",
       "    text-align: left;\n",
       "  }\n",
       "</style><div class='table-result-container'><table class='table-result'><thead style='background-color: white'><tr><th>nom_tipousina</th><th>potencia_2000</th><th>potencia_2010</th><th>potencia_2020</th><th>potencia_2024</th></tr></thead><tbody><tr><td>EÓLICA</td><td>0.0</td><td>567.8</td><td>16058.5</td><td>29704.0</td></tr><tr><td>FOTOVOLTAICA</td><td>0.0</td><td>0.0</td><td>2879.0</td><td>13179.0</td></tr><tr><td>HIDROELÉTRICA</td><td>65234.1</td><td>83347.8</td><td>109444.4</td><td>109603.1</td></tr><tr><td>NUCLEAR</td><td>640.0</td><td>1990.0</td><td>1990.0</td><td>1990.0</td></tr><tr><td>TÉRMICA</td><td>4925.9</td><td>17143.9</td><td>27322.7</td><td>30170.4</td></tr></tbody></table></div>"
      ]
     },
     "metadata": {
      "application/vnd.databricks.v1+output": {
       "addedWidgets": {},
       "aggData": [],
       "aggError": "",
       "aggOverflow": false,
       "aggSchema": [],
       "aggSeriesLimitReached": false,
       "aggType": "",
       "arguments": {},
       "columnCustomDisplayInfos": {},
       "data": [
        [
         "EÓLICA",
         0.0,
         567.8,
         16058.5,
         29704.0
        ],
        [
         "FOTOVOLTAICA",
         0.0,
         0.0,
         2879.0,
         13179.0
        ],
        [
         "HIDROELÉTRICA",
         65234.1,
         83347.8,
         109444.4,
         109603.1
        ],
        [
         "NUCLEAR",
         640.0,
         1990.0,
         1990.0,
         1990.0
        ],
        [
         "TÉRMICA",
         4925.9,
         17143.9,
         27322.7,
         30170.4
        ]
       ],
       "datasetInfos": [],
       "dbfsResultPath": null,
       "isJsonSchema": true,
       "metadata": {
        "dataframeName": "_sqldf",
        "executionCount": 28
       },
       "overflow": false,
       "plotOptions": {
        "customPlotOptions": {},
        "displayType": "table",
        "pivotAggregation": null,
        "pivotColumns": null,
        "xColumns": null,
        "yColumns": null
       },
       "removedWidgets": [],
       "schema": [
        {
         "metadata": "{}",
         "name": "nom_tipousina",
         "type": "\"string\""
        },
        {
         "metadata": "{}",
         "name": "potencia_2000",
         "type": "\"double\""
        },
        {
         "metadata": "{}",
         "name": "potencia_2010",
         "type": "\"double\""
        },
        {
         "metadata": "{}",
         "name": "potencia_2020",
         "type": "\"double\""
        },
        {
         "metadata": "{}",
         "name": "potencia_2024",
         "type": "\"double\""
        }
       ],
       "type": "table"
      }
     },
     "output_type": "display_data"
    }
   ],
   "source": [
    "%sql\n",
    "SELECT \n",
    "    CASE \n",
    "        WHEN nom_tipousina = 'BOMBEAMENTO' THEN 'HIDROELÉTRICA'\n",
    "        WHEN nom_tipousina = 'EOLIELÉTRICA' THEN 'EÓLICA'\n",
    "        ELSE nom_tipousina\n",
    "    END AS nom_tipousina,\n",
    "    ROUND(SUM(CASE WHEN YEAR(dat_entradaoperacao) <= 2000 AND (dat_desativacao IS NULL OR YEAR(dat_desativacao) > 2000) THEN val_potenciaefetiva ELSE 0 END), 1) AS potencia_2000,\n",
    "    ROUND(SUM(CASE WHEN YEAR(dat_entradaoperacao) <= 2010 AND (dat_desativacao IS NULL OR YEAR(dat_desativacao) > 2010) THEN val_potenciaefetiva ELSE 0 END), 1) AS potencia_2010,\n",
    "    ROUND(SUM(CASE WHEN YEAR(dat_entradaoperacao) <= 2020 AND (dat_desativacao IS NULL OR YEAR(dat_desativacao) > 2020) THEN val_potenciaefetiva ELSE 0 END), 1) AS potencia_2020,\n",
    "    ROUND(SUM(CASE WHEN YEAR(dat_entradaoperacao) <= 2024 AND (dat_desativacao IS NULL OR YEAR(dat_desativacao) > 2024) THEN val_potenciaefetiva ELSE 0 END), 1) AS potencia_2024\n",
    "FROM \n",
    "    tabela_silver\n",
    "GROUP BY \n",
    "    CASE \n",
    "        WHEN nom_tipousina = 'BOMBEAMENTO' THEN 'HIDROELÉTRICA'\n",
    "        WHEN nom_tipousina = 'EOLIELÉTRICA' THEN 'EÓLICA'\n",
    "        ELSE nom_tipousina\n",
    "    END\n",
    "ORDER BY \n",
    "    nom_tipousina;\n",
    "\n",
    "\n"
   ]
  },
  {
   "cell_type": "code",
   "execution_count": 0,
   "metadata": {
    "application/vnd.databricks.v1+cell": {
     "cellMetadata": {
      "byteLimit": 2048000,
      "rowLimit": 10000
     },
     "inputWidgets": {},
     "nuid": "1bfd350b-c1bb-4e25-ab48-4fe2578ada51",
     "showTitle": false,
     "title": ""
    }
   },
   "outputs": [],
   "source": [
    "# Executar a consulta SQL e obter os resultados em um DataFrame do Spark\n",
    "df_spark = spark.sql(\"\"\"\n",
    "SELECT \n",
    "    CASE \n",
    "        WHEN nom_tipousina = 'BOMBEAMENTO' THEN 'HIDROELÉTRICA'\n",
    "        WHEN nom_tipousina = 'EOLIELÉTRICA' THEN 'EÓLICA'\n",
    "        ELSE nom_tipousina\n",
    "    END AS nom_tipousina,\n",
    "    SUM(CASE WHEN YEAR(dat_entradaoperacao) <= 2000 AND (dat_desativacao IS NULL OR YEAR(dat_desativacao) > 2000) THEN val_potenciaefetiva ELSE 0 END) AS potencia_2000,\n",
    "    SUM(CASE WHEN YEAR(dat_entradaoperacao) <= 2010 AND (dat_desativacao IS NULL OR YEAR(dat_desativacao) > 2010) THEN val_potenciaefetiva ELSE 0 END) AS potencia_2010,\n",
    "    SUM(CASE WHEN YEAR(dat_entradaoperacao) <= 2020 AND (dat_desativacao IS NULL OR YEAR(dat_desativacao) > 2020) THEN val_potenciaefetiva ELSE 0 END) AS potencia_2020,\n",
    "    SUM(CASE WHEN YEAR(dat_entradaoperacao) <= 2024 AND (dat_desativacao IS NULL OR YEAR(dat_desativacao) > 2024) THEN val_potenciaefetiva ELSE 0 END) AS potencia_2024\n",
    "FROM tabela_silver\n",
    "GROUP BY \n",
    "    CASE \n",
    "        WHEN nom_tipousina = 'BOMBEAMENTO' THEN 'HIDROELÉTRICA'\n",
    "        WHEN nom_tipousina = 'EOLIELÉTRICA' THEN 'EÓLICA'\n",
    "        ELSE nom_tipousina\n",
    "    END\n",
    "\"\"\")\n",
    "\n",
    "# Converter o DataFrame do Spark para um DataFrame do Pandas\n",
    "df_pandas = df_spark.toPandas()\n"
   ]
  },
  {
   "cell_type": "code",
   "execution_count": 0,
   "metadata": {
    "application/vnd.databricks.v1+cell": {
     "cellMetadata": {
      "byteLimit": 2048000,
      "rowLimit": 10000
     },
     "inputWidgets": {},
     "nuid": "d030b839-38b3-41eb-ba77-f15dfb866644",
     "showTitle": false,
     "title": ""
    }
   },
   "outputs": [
    {
     "output_type": "display_data",
     "data": {
      "image/png": "[encoded data removed]",
      "text/plain": [
       "<Figure size 1400x800 with 1 Axes>"
      ]
     },
     "metadata": {},
     "output_type": "display_data"
    }
   ],
   "source": [
    "import matplotlib.pyplot as plt\n",
    "\n",
    "# Configurar os dados\n",
    "years = ['2000', '2010', '2020', '2024']\n",
    "df_pandas.set_index('nom_tipousina', inplace=True)\n",
    "df_pandas = df_pandas.T\n",
    "\n",
    "# Criar o gráfico\n",
    "ax = df_pandas.plot(kind='bar', stacked=True, figsize=(14, 8), colormap='tab20')\n",
    "\n",
    "# Adicionar rótulos e título\n",
    "ax.set_xlabel('Ano')\n",
    "ax.set_ylabel('Potência Instalada (MW)')\n",
    "ax.set_title('Potência Instalada por Tipo de Usina em Diferentes Anos')\n",
    "ax.legend(title='Tipo de Usina', bbox_to_anchor=(1.05, 1), loc='upper left')\n",
    "\n",
    "# Adicionar os valores acima das barras\n",
    "def add_values(bars):\n",
    "    for bar in bars:\n",
    "        for rect in bar:\n",
    "            height = rect.get_height()\n",
    "            if height > 0:\n",
    "                ax.annotate(f'{height:.1f}',\n",
    "                            xy=(rect.get_x() + rect.get_width() / 2, rect.get_y() + height / 2),\n",
    "                            xytext=(0, 0),\n",
    "                            textcoords=\"offset points\",\n",
    "                            ha='center', va='center')\n",
    "\n",
    "# Chamar a função para cada pilha de barras\n",
    "bars = [rects for rects in ax.containers]\n",
    "add_values(bars)\n",
    "\n",
    "# Ajustar layout\n",
    "plt.tight_layout()\n",
    "\n",
    "# Mostrar o gráfico\n",
    "plt.show()\n"
   ]
  }
 ],
 "metadata": {
  "application/vnd.databricks.v1+notebook": {
   "dashboards": [],
   "environmentMetadata": null,
   "language": "python",
   "notebookMetadata": {
    "mostRecentlyExecutedCommandWithImplicitDF": {
     "commandId": 1832323843684793,
     "dataframes": [
      "_sqldf"
     ]
    },
    "pythonIndentUnit": 4
   },
   "notebookName": "MVP Eng Dados",
   "widgets": {}
  }
 },
 "nbformat": 4,
 "nbformat_minor": 0
}
